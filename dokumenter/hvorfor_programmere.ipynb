{
 "cells": [
  {
   "cell_type": "markdown",
   "metadata": {
    "slideshow": {
     "slide_type": "slide"
    }
   },
   "source": [
    "# Programmering"
   ]
  },
  {
   "cell_type": "markdown",
   "metadata": {
    "slideshow": {
     "slide_type": "slide"
    }
   },
   "source": [
    "## Hvorfor skal elevene lære programmering?\n",
    "\n",
    "### Generelle grunner\n",
    "* Grunnleggende forståelse for IKT (almenndannelse)\n",
    "* Viktig nasjonal interesse med økt rekruttering til IKT"
   ]
  },
  {
   "cell_type": "markdown",
   "metadata": {
    "slideshow": {
     "slide_type": "slide"
    }
   },
   "source": [
    "### Pedagogiske og didaktiske grunner\n",
    "* Lettere å arbeide med realistiske problemstillinger\n",
    "* Utfordrer elevene til å tenke systematisk\n",
    "* Utvikler logisk forståelse og tankegang"
   ]
  },
  {
   "cell_type": "markdown",
   "metadata": {
    "slideshow": {
     "slide_type": "slide"
    }
   },
   "source": [
    "## Vanlig faglig problemstilling i grunnskolen:\n",
    "\n",
    "* Vei fart tid\n",
    "* Lineære funksjoner\n",
    "\n",
    "Litt kjedelig"
   ]
  },
  {
   "cell_type": "markdown",
   "metadata": {
    "slideshow": {
     "slide_type": "slide"
    }
   },
   "source": [
    "<figure>\n",
    "   <img src='./bilder/vei_fart_tid_linear.png' alt='Vei-fart-tid' width='800'>\n",
    "</figure>"
   ]
  },
  {
   "cell_type": "markdown",
   "metadata": {},
   "source": [
    "![figur 1][./bilder/vei_fart_tid_linear.png]"
   ]
  },
  {
   "cell_type": "markdown",
   "metadata": {
    "slideshow": {
     "slide_type": "slide"
    }
   },
   "source": [
    "* Ikke veldig spennende\n",
    "* Hva skjer når farta ikke er konstant?\n",
    "\n",
    "* Svar med klassisk matematikk krever gjerne integrasjon / differensiallikninger\n",
    "\n",
    "* Programmering kan gjøre problemet tilgjengelig for (flinke) elever tidlig.\n",
    "* Veldig plagsomt at klassisk matematikk ikke gjør problemet mer tilgjengelig\n",
    "\n"
   ]
  },
  {
   "cell_type": "markdown",
   "metadata": {
    "slideshow": {
     "slide_type": "slide"
    }
   },
   "source": [
    "Vi skal se på en løsning med konstant akselerasjon senere - fra dette kan man også bygge\n",
    "modeller der akselerasjonen varierer!\n",
    "\n"
   ]
  },
  {
   "cell_type": "markdown",
   "metadata": {
    "slideshow": {
     "slide_type": "slide"
    }
   },
   "source": [
    "## Andre aktuelle anvendelser\n",
    "* Programmere og kalibrere måleinstrumenter i naturfag og kunst og håndtverk (arduino, raspberry pi)\n",
    "* Programmere og kalibrere aktuatorer i naturfag og kunst og håndtverk      (arduino, raspberry pi)\n",
    "* Jobbe med store datasett                  (eksempler på datasett: https://www.kaggle.com/datasets)\n",
    "* Muligheter for å kombinere naturfag, matematikk, kunst og håndtverk i større grad\n",
    "* Mer tverrfaglig arbeid!\n",
    "* Programmering som verktøy i alle fag"
   ]
  },
  {
   "cell_type": "markdown",
   "metadata": {
    "slideshow": {
     "slide_type": "slide"
    }
   },
   "source": [
    "# Et enkelt program\n",
    "Å se på dette programmet har to hovedmål\n",
    "* Vite hvordan du kan kjøre python-programmer\n",
    "* Vite hvordan du skriver ut data (tall, tekst etc) fra python ut til skjermen\n",
    "* Bli kjent med datatypen for tekst: *strenger*"
   ]
  },
  {
   "cell_type": "code",
   "execution_count": 1,
   "metadata": {
    "slideshow": {
     "slide_type": "slide"
    }
   },
   "outputs": [
    {
     "name": "stdout",
     "output_type": "stream",
     "text": [
      "Hello, world!\n"
     ]
    }
   ],
   "source": [
    "print('Hello, world!')"
   ]
  },
  {
   "cell_type": "markdown",
   "metadata": {
    "slideshow": {
     "slide_type": "slide"
    }
   },
   "source": [
    "* Funksjonen `print` skriver teksten `'Hello, world!'` ut til skjermen. \n",
    "* Hermetegnene forteller Python at innholdet er tekst (en streng). \n",
    "* I programmering kaller vi data som skal være tekst for **strenger**."
   ]
  },
  {
   "cell_type": "markdown",
   "metadata": {
    "slideshow": {
     "slide_type": "slide"
    }
   },
   "source": [
    "# Et program som behandler tall"
   ]
  },
  {
   "cell_type": "code",
   "execution_count": 4,
   "metadata": {
    "slideshow": {
     "slide_type": "slide"
    }
   },
   "outputs": [
    {
     "name": "stdout",
     "output_type": "stream",
     "text": [
      "28.0\n"
     ]
    }
   ],
   "source": [
    "# Regn ut arealet av et pararellogram med lengde l og bredde h\n",
    "l = 8\n",
    "h = 3.5\n",
    "\n",
    "A = l*h\n",
    "print(A)"
   ]
  },
  {
   "cell_type": "markdown",
   "metadata": {
    "slideshow": {
     "slide_type": "slide"
    }
   },
   "source": [
    "Programmet regner ut arealet av et pararellogram - vi kan tenke på programmet som en oppskrift for dette.\n",
    "\n",
    "* Den øverste linjen er en kommentar. Den blir ignorert av datamaskinen og skal gjøre programmet lettere å lese for mennesker\n",
    "\n",
    "* `l` og `h` er *variabler* av typen `int` (heltall) og `float` (et \"desimaltall\").\n",
    "En variabel kan du tenke på som en boks som inneholder data, og navnet på variabelen gir oss en måte å få tak i dataene\n",
    "\n",
    "* Til slutt regner vi ut produktet `l*h`, lagrer det i variabelen A og skriver det ut til skjermen"
   ]
  },
  {
   "cell_type": "markdown",
   "metadata": {
    "slideshow": {
     "slide_type": "slide"
    }
   },
   "source": [
    "Gode variabelnavn og gode kommentarer er viktig for lesbar kode.\n",
    "Les mer om gode variabelnavn og kommentarer her: http://lstor.me/kommentarer/."
   ]
  },
  {
   "cell_type": "markdown",
   "metadata": {
    "slideshow": {
     "slide_type": "slide"
    }
   },
   "source": [
    "<figure>\n",
    "   <img src='./bilder/wtf_code_quality.jpeg' alt='Vei-fart-tid' width='500'>\n",
    "</figure>"
   ]
  },
  {
   "cell_type": "markdown",
   "metadata": {
    "slideshow": {
     "slide_type": "slide"
    }
   },
   "source": [
    "# Forbedring av programmet\n",
    "Programmet har en svakhet: hver gang du vil endre dimensjonene på pararellogrammet, må koden endres.\n",
    "\n",
    "Bedre løsning: les inn tallene fra brukeren"
   ]
  },
  {
   "cell_type": "code",
   "execution_count": 2,
   "metadata": {
    "slideshow": {
     "slide_type": "slide"
    }
   },
   "outputs": [
    {
     "name": "stdout",
     "output_type": "stream",
     "text": [
      "Skriv inn lengden på pararellogrammet: 4.0\n",
      "Skriv inn høyden til pararellogrammet: 5,0\n"
     ]
    },
    {
     "ename": "ValueError",
     "evalue": "could not convert string to float: '5,0'",
     "output_type": "error",
     "traceback": [
      "\u001b[1;31m---------------------------------------------------------------------------\u001b[0m",
      "\u001b[1;31mValueError\u001b[0m                                Traceback (most recent call last)",
      "\u001b[1;32m<ipython-input-2-56b59ba95142>\u001b[0m in \u001b[0;36m<module>\u001b[1;34m\u001b[0m\n\u001b[0;32m      5\u001b[0m \u001b[1;31m# Gjør strengene `l` og `h` om til desimaltall\u001b[0m\u001b[1;33m\u001b[0m\u001b[1;33m\u001b[0m\u001b[1;33m\u001b[0m\u001b[0m\n\u001b[0;32m      6\u001b[0m \u001b[0ml\u001b[0m \u001b[1;33m=\u001b[0m \u001b[0mfloat\u001b[0m\u001b[1;33m(\u001b[0m\u001b[0ml\u001b[0m\u001b[1;33m)\u001b[0m\u001b[1;33m\u001b[0m\u001b[1;33m\u001b[0m\u001b[0m\n\u001b[1;32m----> 7\u001b[1;33m \u001b[0mh\u001b[0m \u001b[1;33m=\u001b[0m \u001b[0mfloat\u001b[0m\u001b[1;33m(\u001b[0m\u001b[0mh\u001b[0m\u001b[1;33m)\u001b[0m\u001b[1;33m\u001b[0m\u001b[1;33m\u001b[0m\u001b[0m\n\u001b[0m\u001b[0;32m      8\u001b[0m \u001b[1;33m\u001b[0m\u001b[0m\n\u001b[0;32m      9\u001b[0m \u001b[0mA\u001b[0m \u001b[1;33m=\u001b[0m \u001b[0ml\u001b[0m\u001b[1;33m*\u001b[0m\u001b[0mh\u001b[0m\u001b[1;33m\u001b[0m\u001b[1;33m\u001b[0m\u001b[0m\n",
      "\u001b[1;31mValueError\u001b[0m: could not convert string to float: '5,0'"
     ]
    }
   ],
   "source": [
    "# Regn ut arealet av et pararellogram med lengde l og bredde h\n",
    "l = input('Skriv inn lengden på pararellogrammet: ')\n",
    "h = input('Skriv inn høyden til pararellogrammet: ')\n",
    "\n",
    "# Gjør strengene `l` og `h` om til desimaltall\n",
    "l = float(l)\n",
    "h = float(h)\n",
    "\n",
    "A = l*h\n",
    "print(A)"
   ]
  },
  {
   "cell_type": "markdown",
   "metadata": {
    "slideshow": {
     "slide_type": "slide"
    }
   },
   "source": [
    "# Oppgaver for å komme i gang med python"
   ]
  },
  {
   "cell_type": "markdown",
   "metadata": {
    "slideshow": {
     "slide_type": "subslide"
    }
   },
   "source": [
    "## Oppgave 1\n",
    "Skriv et program `hei_verden.py` som skriver teksten `Hei, Verden!` ut til skjermen."
   ]
  },
  {
   "cell_type": "markdown",
   "metadata": {
    "slideshow": {
     "slide_type": "subslide"
    }
   },
   "source": [
    "## Oppgave 2\n",
    "Skriv et program som regner ut arealet til en trekant med lengde $h$ og grunnlinje $g$.\n",
    "Du kan velge verdier for $h$ og $g$ selv."
   ]
  },
  {
   "cell_type": "markdown",
   "metadata": {
    "slideshow": {
     "slide_type": "subslide"
    }
   },
   "source": [
    "## Oppgave 3\n",
    "Gjør om programmet over slik at det leser inn lengden $h$ og grunnlinja $g$,\n",
    "regner ut arealet til trekanten og skriver det ut til skjermen."
   ]
  },
  {
   "cell_type": "markdown",
   "metadata": {
    "slideshow": {
     "slide_type": "subslide"
    }
   },
   "source": [
    "## Oppgave 4: Lag et didaktisk verktøy\n",
    "Du skal introdusere elevene dine for funksjoner for første gang, og ønsker å leke\n",
    "den (for lærere) kjente leken \"gjett regelen\" der elevene sier noen tall, du beregner en tilhørende verdi\n",
    "med en lineær funksjon, og elevene skal prøve å formulere hva funksjonen gjør med tallene.\n",
    "\n",
    "Bruk en lineær funksjon $y = ax + b$ der du selv bestemmer tallene $a$ og $b$ som holdes hemmelig for elevene.\n",
    "Programmet skal lese inn en verdi for $x$ og gi ut verdien for $y$."
   ]
  },
  {
   "cell_type": "markdown",
   "metadata": {
    "slideshow": {
     "slide_type": "subslide"
    }
   },
   "source": [
    "## Oppgave 5\n",
    "En båt seiler med konstant hastighet $v= 43.2 \\text{km/t}$. Fra havn $A$ til havn $B$.\n",
    "Ved tiden $t=0$ var båten $180 \\text{ km}$ unna havn $A$. \n",
    "\n",
    "Skriv et program som regner ut strekningen $s_A(t)$ fra havn $A$ etter tiden $t$."
   ]
  },
  {
   "cell_type": "markdown",
   "metadata": {
    "slideshow": {
     "slide_type": "subslide"
    }
   },
   "source": [
    "## Oppgave 6\n",
    "Modifiser programmet ditt i oppgave 3 slik at det leser inn farten $v$, strekningen $s_0$ ved tiden $t=0$ og tiden $t_0$.\n",
    "Programmet skal regne ut strekningen $s$ etter tiden $t$ og skrive det ut til skjermen."
   ]
  },
  {
   "cell_type": "markdown",
   "metadata": {
    "slideshow": {
     "slide_type": "subslide"
    }
   },
   "source": [
    "## Oppgave 7: Bruk en komplisert formel\n",
    "Programmer kan gjøre det lettere å beregne verdien til kompliserte utrykk.\n",
    "Et objekt som beveger seg gjennom en væske eller en gass med tetthet $\\rho$ målt i $\\text{kg/m}^3$  og dynamisk viskositet $\\mu$ målt i $\\text{kg/ms}$, opplever en drag-kraft\n",
    "\n",
    "$$ F_d = \\frac{1}{2}C_dA\\rho v^2, $$\n",
    "\n",
    "der $C_d$ er *drag-koeffisienten* som avhenger av objektets form, overflate osv., og $A$ er arealet av objektets tverrsnitt målt i kvadratmeter.\n",
    "Du skal beregne $F_d$ når du har fått oppgitt følgende data:\n",
    "\n",
    "\\begin{align*}\n",
    "\\mu & = 1.802\\cdot10^{-5} & \\\\\n",
    "\\rho & = 1.225 & \\\\\n",
    "C_d & = 0.8 & \\\\\n",
    "A & = 0.8 & \\\\\n",
    "\\end{align*}\n",
    "\n",
    "**a)** Lag et program `drag_koeffisient.py` som beregner drag-koeffisienten $F_d$.\n",
    "\n",
    "**b)** Gjør samme beregningen i et ipython-shell."
   ]
  },
  {
   "cell_type": "markdown",
   "metadata": {
    "slideshow": {
     "slide_type": "slide"
    }
   },
   "source": [
    "# Noen konkrete anvendelser"
   ]
  },
  {
   "cell_type": "markdown",
   "metadata": {
    "slideshow": {
     "slide_type": "slide"
    }
   },
   "source": [
    "Vi kan begynne med å se på hvordan man kan gjøre beregninger knyttet til bevegelse under konstant akselerasjon $a$.\n",
    "Det finnes en formel programmet kan testes mot:\n",
    "$$ s(t) = s_0 + v_0t + \\frac{1}{2}at^2 $$"
   ]
  },
  {
   "cell_type": "markdown",
   "metadata": {
    "slideshow": {
     "slide_type": "slide"
    }
   },
   "source": [
    "<figure>\n",
    "   <img src='./bilder/fart_tid_konstant_akselerasjon.png' alt='Vei-fart-tid' width='550'>\n",
    "</figure>"
   ]
  },
  {
   "cell_type": "markdown",
   "metadata": {
    "slideshow": {
     "slide_type": "slide"
    }
   },
   "source": [
    "### Eksempel på algoritmisk tenkning\n",
    "Får å beregne strekningen $s$, må vi bryte problemet opp i mange delproblemer der vi beregner hastigheten $v$ fra akselerasjonen $a$ i mange små tidssteg, og i hvert tidssteg oppdaterer vi $s$ med formlene\n",
    "\n",
    "\\begin{align*}\n",
    "v(t_n) = 10 - at_n \\\\[1.2em]\n",
    "s_{n+1} = s_{n} + \\Delta t \\cdot v(t_n)\n",
    "\\end{align*}"
   ]
  },
  {
   "cell_type": "code",
   "execution_count": 7,
   "metadata": {
    "slideshow": {
     "slide_type": "slide"
    }
   },
   "outputs": [],
   "source": [
    "def modell_strekning(T, s_0, v):\n",
    "    \"\"\"\n",
    "    modell-problem med kjent fart\n",
    "\n",
    "    idé: Hvis man kjenner s(t) og v(t), kan s(t + dt) tilnærmes slik:\n",
    "    s(t + dt) = s(t) + dt*v(t)\n",
    "    Jo mindre tidssteg dt, jo mer nøyaktig blir tilnærmingen.\n",
    "    \"\"\"\n",
    "\n",
    "    dt = 0.1   # tidssteg\n",
    "    t = [0]    # første tidspunkt\n",
    "    s = [s_0]  # start-strekning\n",
    "    k = 0      # telle-variabel\n",
    "\n",
    "    while t[k] < T:\n",
    "        s_next = s[k] + dt*v( t[k] )\n",
    "        t_next = t[k] + dt\n",
    "\n",
    "        s.append(s_next)\n",
    "        t.append(t_next)\n",
    "        k = k + 1\n",
    "\n",
    "    return t, s"
   ]
  },
  {
   "cell_type": "markdown",
   "metadata": {
    "slideshow": {
     "slide_type": "slide"
    }
   },
   "source": [
    "### Tidsperspektiv på slike prosjekter\n",
    "Min antakelse: én til to uker hvis elevene er kjent med bruk av løkker."
   ]
  },
  {
   "cell_type": "markdown",
   "metadata": {
    "slideshow": {
     "slide_type": "slide"
    }
   },
   "source": [
    "### Læringsverdi\n",
    "* Algoritmisk tenkning\n",
    "* Vurdering av modellen, hvor stor må $\\Delta t$ være, etc\n",
    "* Går det an å utvide modellen? F.eks i tilknytning til Newtons lover i fysikk.\n",
    "* Hva skjer dersom vi utvider modellen og bruker den på en fjær som svinger?"
   ]
  },
  {
   "cell_type": "markdown",
   "metadata": {
    "slideshow": {
     "slide_type": "slide"
    }
   },
   "source": [
    "### Behandling av store datasett\n",
    "Vi skal lese inn **digre** datasett. Regneark sliter med å behandle så store mengder data,\n",
    "og det er også ganske knotete å holde på med.\n",
    "Vi bruker pakken pandas. Dere kan bruke conda til å installere den. Skriv dette i terminalen for\n",
    "å installere nødvendige pakker\n",
    "```\n",
    "conda install pandas\n",
    "conda install xlrd\n",
    "```"
   ]
  },
  {
   "cell_type": "markdown",
   "metadata": {
    "slideshow": {
     "slide_type": "slide"
    }
   },
   "source": [
    "I mappen `programmering_uskole/programmer/eksempler_datalogging` ligger det en exel-fil `temperatur_data.xlsx` med\n",
    "dummy-temperaturer."
   ]
  },
  {
   "cell_type": "markdown",
   "metadata": {
    "slideshow": {
     "slide_type": "slide"
    }
   },
   "source": [
    "Vi kan bruke pandas til å både skrive data til excel-filer, og for å laste data fra excel-filer inn i python.\n",
    "Du kan senere ta en titt på hvordan dette er gjort i filene `programmering_uskole/programmer/eksempler_datalogging/makedata.py` og `programmering_uskole/programmer/eksempler_datalogging/read_data.py`"
   ]
  },
  {
   "cell_type": "markdown",
   "metadata": {
    "slideshow": {
     "slide_type": "slide"
    }
   },
   "source": [
    "## Andre anvendelser\n",
    "\n",
    "Biologi: Simulere bestander eller økosystemer. Start med eksponentiell vekst, introduser bære-evne, introduser sesonger, introduser rovdyr, introduser tilfeldige sykdommmer. Store muligheter!\n",
    "\n",
    "Fysikk: Vei-fart-tid og newtons lover.\n",
    "\n",
    "Tverrfaglige prosjekter: Naturfag, kunst og håndtverk, matematikk. Utforske bruk av arduino og raspberry pi med måleinstrumenter og aktuatorer. Sammenføyning som plastsveising og lodding aktuelt.\n",
    "\n",
    "Bruk av pakken pandas kan være aktuelt i andre fag? (databehandling ut over excel)\n",
    "\n",
    "Personlig mening: synes det er lettere å bruke pandas enn excel ...\n",
    "\n",
    "Viktig å lære en del grunnleggende emner først. Men aller viktigst å ha det gøy!"
   ]
  },
  {
   "cell_type": "markdown",
   "metadata": {
    "slideshow": {
     "slide_type": "slide"
    }
   },
   "source": [
    "# Viktigst: Ha det gøy. La elevene ha det gøy med koding\n",
    "Bruk programmering som et didaktisk verktøy. La elevene utvikle ferdighetene gradvis. Tør å la elevene formulere egne prosjekter, og tilby både utfordrende og enklere prosjekter elevene kan arbeide med."
   ]
  }
 ],
 "metadata": {
  "celltoolbar": "Slideshow",
  "kernelspec": {
   "display_name": "Python 3",
   "language": "python",
   "name": "python3"
  },
  "language_info": {
   "codemirror_mode": {
    "name": "ipython",
    "version": 3
   },
   "file_extension": ".py",
   "mimetype": "text/x-python",
   "name": "python",
   "nbconvert_exporter": "python",
   "pygments_lexer": "ipython3",
   "version": "3.7.4"
  }
 },
 "nbformat": 4,
 "nbformat_minor": 2
}
